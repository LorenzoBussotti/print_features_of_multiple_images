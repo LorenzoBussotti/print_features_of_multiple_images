{
 "cells": [
  {
   "cell_type": "markdown",
   "id": "economic-shift",
   "metadata": {},
   "source": [
    "# Lorenzo Bussotti project: print features of multiple images"
   ]
  },
  {
   "cell_type": "markdown",
   "id": "hawaiian-duncan",
   "metadata": {},
   "source": [
    "School: start2impact\n",
    "    \n",
    "Questions: create a tabulate with the features of different images (R,G,B, alpha channels, grayscale, height and width) using Pillow and NumPy functions."
   ]
  },
  {
   "cell_type": "code",
   "execution_count": 4,
   "id": "joint-harvey",
   "metadata": {},
   "outputs": [
    {
     "name": "stdout",
     "output_type": "stream",
     "text": [
      "╒══════════════╤══════════╤═════════╤═════════════╤════════╤═════════╤════════╤═════════╕\n",
      "│ Name         │   Height │   Width │   Grayscale │    Red │   Green │   Blue │   Alpha │\n",
      "╞══════════════╪══════════╪═════════╪═════════════╪════════╪═════════╪════════╪═════════╡\n",
      "│ bw.png       │      512 │     512 │       21.48 │   0    │    0    │   0    │    0    │\n",
      "├──────────────┼──────────┼─────────┼─────────────┼────────┼─────────┼────────┼─────────┤\n",
      "│ daffodil.jpg │      500 │     335 │        0    │ 109.25 │   85.56 │   4.97 │    0    │\n",
      "├──────────────┼──────────┼─────────┼─────────────┼────────┼─────────┼────────┼─────────┤\n",
      "│ eclipse.png  │      256 │     256 │        0    │ 109.05 │  109.52 │  39.85 │  133.59 │\n",
      "├──────────────┼──────────┼─────────┼─────────────┼────────┼─────────┼────────┼─────────┤\n",
      "│ trump.jpeg   │      183 │     275 │        0    │  97.01 │   98.99 │  90.92 │    0    │\n",
      "╘══════════════╧══════════╧═════════╧═════════════╧════════╧═════════╧════════╧═════════╛\n"
     ]
    }
   ],
   "source": [
    "#make table with images features\n",
    "import numpy as np\n",
    "import os\n",
    "from tabulate import tabulate\n",
    "from PIL import Image\n",
    "\n",
    "image_path = r'image'\n",
    "os.chdir(os.path.join(r'../files', image_path))\n",
    "               \n",
    "img_list = os.listdir()\n",
    "num_images = len(img_list) #number of images\n",
    "data = []\n",
    "\n",
    "for i in range(num_images): #iterate over the images\n",
    "    full = os.path.join(os.getcwd(), img_list[i]) #path\n",
    "    img = Image.open(full) #load the set of images and then find all the features\n",
    "    img = np.array(img) #set the images as array\n",
    "    height = np.array(img.shape[0]) \n",
    "    width = np.array(img.shape[1]) \n",
    "    a = img.shape\n",
    "    dim = img.ndim  \n",
    "    # depending on pics dimension, the program will fill the table with the value of the channels\n",
    "    if dim == 2:\n",
    "        gray = np.around(np.mean(img), decimals=2)\n",
    "        R = 0\n",
    "        G = 0\n",
    "        B = 0\n",
    "        alpha = 0\n",
    "    if dim == 3 and a[2] == 3:\n",
    "        gray = 0\n",
    "        R = np.around(np.mean(img[:,:,0]), decimals=2)\n",
    "        G = np.around(np.mean(img[:,:,1]), decimals=2)\n",
    "        B = np.around(np.mean(img[:,:,2]), decimals=2)\n",
    "        alpha = 0\n",
    "    if dim == 3 and a[2] == 4: \n",
    "        gray = 0\n",
    "        R = np.around(np.mean(img[:,:,0]), decimals=2)\n",
    "        G = np.around(np.mean(img[:,:,1]), decimals=2)\n",
    "        B = np.around(np.mean(img[:,:,2]), decimals=2)\n",
    "        alpha = np.around(np.mean(img[:,:,3]), decimals=2) \n",
    "    \n",
    "    data.append((img_list[i], height, width, gray, R, G, B, alpha))\n",
    "\n",
    "print(tabulate(data,  headers = ['Name', 'Height', 'Width','Grayscale', 'Red', 'Green', 'Blue', 'Alpha'], tablefmt='fancy_grid'))\n"
   ]
  },
  {
   "cell_type": "code",
   "execution_count": null,
   "id": "significant-spice",
   "metadata": {},
   "outputs": [],
   "source": []
  }
 ],
 "metadata": {
  "kernelspec": {
   "display_name": "Python 3",
   "language": "python",
   "name": "python3"
  },
  "language_info": {
   "codemirror_mode": {
    "name": "ipython",
    "version": 3
   },
   "file_extension": ".py",
   "mimetype": "text/x-python",
   "name": "python",
   "nbconvert_exporter": "python",
   "pygments_lexer": "ipython3",
   "version": "3.8.3"
  }
 },
 "nbformat": 4,
 "nbformat_minor": 5
}
